{
 "cells": [
  {
   "cell_type": "code",
   "execution_count": 1,
   "id": "b79c4f6e",
   "metadata": {},
   "outputs": [],
   "source": [
    "import os\n",
    "import torch\n",
    "import torch.nn as nn\n",
    "import torch.optim as optim\n",
    "import pandas as pd\n",
    "import numpy as np\n",
    "from torch.utils.data import Dataset, DataLoader\n",
    "from sklearn.model_selection import train_test_split, StratifiedKFold\n",
    "from sklearn.metrics import confusion_matrix, classification_report\n",
    "from gensim.models import KeyedVectors\n",
    "import matplotlib.pyplot as plt"
   ]
  },
  {
   "cell_type": "code",
   "execution_count": 2,
   "id": "5964671e",
   "metadata": {},
   "outputs": [],
   "source": [
    "# Load pre-trained word2vec embeddings\n",
    "embeddings_path = 'GoogleNews-vectors-negative300.bin.gz'\n",
    "word_vectors = KeyedVectors.load_word2vec_format(embeddings_path, binary=True)"
   ]
  },
  {
   "cell_type": "code",
   "execution_count": 3,
   "id": "9ebd9a25",
   "metadata": {},
   "outputs": [],
   "source": [
    "with open(\"train_text.txt\", \"r\", encoding=\"utf-8\") as f:\n",
    "    train_text = f.readlines()\n",
    "\n",
    "with open(\"train_labels.txt\", \"r\", encoding=\"utf-8\") as f:\n",
    "    train_labels = f.readlines()\n",
    "\n",
    "with open(\"val_text.txt\", \"r\", encoding=\"utf-8\") as f:\n",
    "    val_text = f.readlines()\n",
    "\n",
    "with open(\"val_labels.txt\", \"r\", encoding=\"utf-8\") as f:\n",
    "    val_labels = f.readlines()\n",
    "\n",
    "with open(\"test_text.txt\", \"r\", encoding=\"utf-8\") as f:\n",
    "    test_text = f.readlines()\n",
    "\n",
    "with open(\"test_labels.txt\", \"r\", encoding=\"utf-8\") as f:\n",
    "    test_labels = f.readlines()"
   ]
  },
  {
   "cell_type": "code",
   "execution_count": 4,
   "id": "6af6cc9a",
   "metadata": {},
   "outputs": [],
   "source": [
    "# Truncate lists to the minimum length\n",
    "min_train_len = min(len(train_text), len(train_labels))\n",
    "min_val_len = min(len(val_text), len(val_labels))\n",
    "min_test_len = min(len(test_text), len(test_labels))\n",
    "\n",
    "train_text, train_labels = train_text[:min_train_len], train_labels[:min_train_len]\n",
    "val_text, val_labels = val_text[:min_val_len], val_labels[:min_val_len]\n",
    "test_text, test_labels = test_text[:min_test_len], test_labels[:min_test_len]"
   ]
  },
  {
   "cell_type": "code",
   "execution_count": 5,
   "id": "5aa1ba71",
   "metadata": {},
   "outputs": [],
   "source": [
    "# Prepare data\n",
    "data = pd.DataFrame({\"text\": train_text + val_text + test_text,\n",
    "                     \"labels\": train_labels + val_labels + test_labels})\n",
    "\n",
    "# Convert labels to int\n",
    "data[\"labels\"] = data[\"labels\"].astype(int)"
   ]
  },
  {
   "cell_type": "code",
   "execution_count": 6,
   "id": "f5f94cdb",
   "metadata": {},
   "outputs": [],
   "source": [
    "def tweet2vec(tweet, word_vectors, max_len=50):\n",
    "    embeddings = []\n",
    "    for word in tweet.split():\n",
    "        if word in word_vectors:\n",
    "            embeddings.append(torch.tensor(word_vectors[word]))\n",
    "        if len(embeddings) == max_len:\n",
    "            break\n",
    "    while len(embeddings) < max_len:\n",
    "        embeddings.append(torch.zeros(300))\n",
    "    return torch.stack(embeddings)"
   ]
  },
  {
   "cell_type": "code",
   "execution_count": 7,
   "id": "9fcccba5",
   "metadata": {},
   "outputs": [],
   "source": [
    "class TweetDataset(Dataset):\n",
    "    def __init__(self, data, word_vectors):\n",
    "        self.data = data\n",
    "        self.word_vectors = word_vectors\n",
    "\n",
    "    def __len__(self):\n",
    "        return len(self.data)\n",
    "\n",
    "    def __getitem__(self, idx):\n",
    "        tweet = self.data.iloc[idx][\"text\"]\n",
    "        label = self.data.iloc[idx][\"labels\"]\n",
    "        embeddings = tweet2vec(tweet, self.word_vectors)\n",
    "        return embeddings, label"
   ]
  },
  {
   "cell_type": "code",
   "execution_count": 8,
   "id": "ccb37668",
   "metadata": {},
   "outputs": [],
   "source": [
    "class TextClassifier(nn.Module):\n",
    "    def __init__(self, embedding_dim, hidden_dim, output_dim):\n",
    "        super(TextClassifier, self).__init__()\n",
    "        self.fc1 = nn.Linear(embedding_dim, hidden_dim)\n",
    "        self.relu = nn.ReLU()\n",
    "        self.fc2 = nn.Linear(hidden_dim, output_dim)\n",
    "        self.softmax = nn.Softmax(dim=1)\n",
    "\n",
    "    def forward(self, x):\n",
    "        embedded = x.mean(dim=1)\n",
    "        out = self.fc1(embedded)\n",
    "        out = self.relu(out)\n",
    "        out = self.fc2(out)\n",
    "        out = self.softmax(out)\n",
    "        return out"
   ]
  },
  {
   "cell_type": "code",
   "execution_count": 9,
   "id": "9584d751",
   "metadata": {},
   "outputs": [],
   "source": [
    "embedding_dim = 300\n",
    "hidden_dim = 128\n",
    "output_dim = 3\n",
    "learning_rate = 0.001\n",
    "epochs = 30 \n",
    "batch_size = 64  \n",
    "accumulation_steps = 4 \n",
    "device = torch.device(\"cuda\" if torch.cuda.is_available() else \"cpu\")\n"
   ]
  },
  {
   "cell_type": "code",
   "execution_count": null,
   "id": "d221f2ac",
   "metadata": {
    "scrolled": false
   },
   "outputs": [
    {
     "name": "stdout",
     "output_type": "stream",
     "text": [
      "Epoch: 10, Loss: 0.9475, Validation accuracy: 58.00%\n",
      "Epoch: 20, Loss: 0.9456, Validation accuracy: 57.95%\n",
      "Epoch: 30, Loss: 0.9454, Validation accuracy: 58.04%\n",
      "Epoch: 10, Loss: 0.9496, Validation accuracy: 57.88%\n",
      "Epoch: 20, Loss: 0.9477, Validation accuracy: 58.09%\n",
      "Epoch: 30, Loss: 0.9475, Validation accuracy: 58.16%\n"
     ]
    }
   ],
   "source": [
    "# Training and cross-validation\n",
    "skf = StratifiedKFold(n_splits=5)\n",
    "for train_index, val_index in skf.split(data[\"text\"], data[\"labels\"]):\n",
    "    train_data = data.iloc[train_index]\n",
    "    val_data = data.iloc[val_index]\n",
    "\n",
    "    train_dataset = TweetDataset(train_data, word_vectors)\n",
    "    val_dataset = TweetDataset(val_data, word_vectors)\n",
    "\n",
    "    train_loader = DataLoader(train_dataset, batch_size=batch_size, shuffle=True)\n",
    "    val_loader = DataLoader(val_dataset, batch_size=batch_size, shuffle=True)\n",
    "    model = TextClassifier(embedding_dim, hidden_dim, output_dim).to(device)\n",
    "    criterion = nn.CrossEntropyLoss()\n",
    "    optimizer = optim.Adam(model.parameters(), lr=learning_rate)\n",
    "    scheduler = optim.lr_scheduler.StepLR(optimizer, step_size=10, gamma=0.1)  \n",
    "    training_losses = []\n",
    "    validation_accuracies = []\n",
    "    for epoch in range(epochs):\n",
    "        \n",
    "        model.train()\n",
    "        running_loss = 0.0\n",
    "        optimizer.zero_grad() \n",
    "        for i, (embeddings, labels) in enumerate(train_loader):\n",
    "            embeddings, labels = embeddings.to(device), labels.to(device)\n",
    "            outputs = model(embeddings)\n",
    "\n",
    "            loss = criterion(outputs, labels.long())\n",
    "\n",
    "            loss.backward()\n",
    "            if (i + 1) % accumulation_steps == 0:\n",
    "                optimizer.step()\n",
    "                optimizer.zero_grad()\n",
    "\n",
    "            running_loss += loss.item()\n",
    "        training_losses.append(running_loss / len(train_loader))\n",
    "        scheduler.step()\n",
    "        model.eval()\n",
    "        correct = 0\n",
    "        total = 0\n",
    "        with torch.no_grad():\n",
    "            for embeddings, labels in val_loader:\n",
    "                embeddings, labels = embeddings.to(device), labels.to(device)\n",
    "                outputs = model(embeddings.float())\n",
    "\n",
    "                _, predicted = torch.max(outputs.data, 1)\n",
    "                total += labels.size(0)\n",
    "                correct += (predicted == labels).sum().item()\n",
    "\n",
    "        accuracy = 100 * correct / total\n",
    "        validation_accuracies.append(accuracy)\n",
    "        if (epoch + 1) % 10 == 0:\n",
    "            print(f\"Epoch: {epoch + 1}, Loss: {running_loss / len(train_loader):.4f}, Validation accuracy: {accuracy:.2f}%\")"
   ]
  },
  {
   "cell_type": "code",
   "execution_count": 11,
   "id": "d7d8286c",
   "metadata": {},
   "outputs": [],
   "source": [
    "class TweetDataset(Dataset):\n",
    "    def __init__(self, data, word_vectors):\n",
    "        self.data = data\n",
    "        self.word_vectors = word_vectors\n",
    "\n",
    "    def __len__(self):\n",
    "        return len(self.data)\n",
    "\n",
    "    def __getitem__(self, idx):\n",
    "        tweet = self.data.iloc[idx][\"text\"]\n",
    "        label = self.data.iloc[idx][\"labels\"]\n",
    "        embeddings = tweet2vec(tweet, self.word_vectors)\n",
    "        return embeddings, torch.tensor(label)"
   ]
  },
  {
   "cell_type": "code",
   "execution_count": 12,
   "id": "902c6d6d",
   "metadata": {},
   "outputs": [],
   "source": [
    "test_data = pd.DataFrame({\"text\": test_text, \"labels\": [int(label) for label in test_labels]})\n",
    "test_dataset = TweetDataset(test_data, word_vectors)\n",
    "test_loader = DataLoader(test_dataset, batch_size=batch_size, shuffle=True)"
   ]
  },
  {
   "cell_type": "code",
   "execution_count": 13,
   "id": "80713e66",
   "metadata": {},
   "outputs": [],
   "source": [
    "# Evaluation\n",
    "model.eval()\n",
    "predictions = []\n",
    "true_labels = []\n",
    "with torch.no_grad():\n",
    "    for embeddings, labels in test_loader:\n",
    "        embeddings, labels = embeddings.to(device), labels.to(device)\n",
    "        outputs = model(embeddings.float())\n",
    "        _, predicted = torch.max(outputs.data, 1)\n",
    "        predictions.extend(predicted.cpu().numpy())\n",
    "        true_labels.extend(labels.cpu().numpy())"
   ]
  },
  {
   "cell_type": "code",
   "execution_count": 14,
   "id": "8543502c",
   "metadata": {},
   "outputs": [
    {
     "name": "stdout",
     "output_type": "stream",
     "text": [
      "Confusion Matrix:\n",
      "[[   0 3596  376]\n",
      " [   0 5219  718]\n",
      " [   0 1121 1254]]\n",
      "\n",
      "Classification Report:\n",
      "              precision    recall  f1-score   support\n",
      "\n",
      "           0       1.00      0.00      0.00      3972\n",
      "           1       0.53      0.88      0.66      5937\n",
      "           2       0.53      0.53      0.53      2375\n",
      "\n",
      "    accuracy                           0.53     12284\n",
      "   macro avg       0.69      0.47      0.40     12284\n",
      "weighted avg       0.68      0.53      0.42     12284\n",
      "\n"
     ]
    }
   ],
   "source": [
    "# Confusion matrix and classification report\n",
    "print(\"Confusion Matrix:\")\n",
    "print(confusion_matrix(true_labels, predictions))\n",
    "print(\"\\nClassification Report:\")\n",
    "print(classification_report(true_labels, predictions, zero_division=1))"
   ]
  },
  {
   "cell_type": "code",
   "execution_count": 15,
   "id": "619dc00f",
   "metadata": {},
   "outputs": [
    {
     "data": {
      "image/png": "[encoded data removed]",
      "text/plain": [
       "<Figure size 432x288 with 2 Axes>"
      ]
     },
     "metadata": {
      "needs_background": "light"
     },
     "output_type": "display_data"
    }
   ],
   "source": [
    "fig, ax1 = plt.subplots()\n",
    "\n",
    "color = 'tab:red'\n",
    "ax1.set_xlabel('Epochs')\n",
    "ax1.set_ylabel('Training Loss', color=color)\n",
    "ax1.plot(range(1, epochs + 1), training_losses, color=color)\n",
    "ax1.tick_params(axis='y', labelcolor=color)\n",
    "\n",
    "ax2 = ax1.twinx()\n",
    "\n",
    "color = 'tab:blue'\n",
    "ax2.set_ylabel('Validation Accuracy (%)', color=color)\n",
    "ax2.plot(range(1, epochs + 1), validation_accuracies, color=color)\n",
    "ax2.tick_params(axis='y', labelcolor=color)\n",
    "\n",
    "fig.tight_layout()\n",
    "plt.show()"
   ]
  },
  {
   "cell_type": "code",
   "execution_count": null,
   "id": "0fa69669",
   "metadata": {},
   "outputs": [],
   "source": []
  }
 ],
 "metadata": {
  "kernelspec": {
   "display_name": "Python 3",
   "language": "python",
   "name": "python3"
  },
  "language_info": {
   "codemirror_mode": {
    "name": "ipython",
    "version": 3
   },
   "file_extension": ".py",
   "mimetype": "text/x-python",
   "name": "python",
   "nbconvert_exporter": "python",
   "pygments_lexer": "ipython3",
   "version": "3.6.13"
  }
 },
 "nbformat": 4,
 "nbformat_minor": 5
}
