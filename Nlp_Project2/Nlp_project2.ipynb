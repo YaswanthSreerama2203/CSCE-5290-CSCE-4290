{
 "cells": [
  {
   "cell_type": "code",
   "execution_count": 1,
   "id": "506992c0",
   "metadata": {},
   "outputs": [],
   "source": [
    "import pandas as pd\n",
    "import numpy as np\n",
    "import matplotlib.pyplot as plt\n",
    "import torch\n",
    "from torch.autograd import Variable\n",
    "from sklearn.metrics import accuracy_score, f1_score\n",
    "import math\n",
    "import os\n",
    "import warnings\n",
    "warnings.simplefilter(\"ignore\", UserWarning)"
   ]
  },
  {
   "cell_type": "code",
   "execution_count": 2,
   "id": "86a10e22",
   "metadata": {},
   "outputs": [],
   "source": [
    "# Function to read data from a file and return a list of lines\n",
    "def read_data(file_name):\n",
    "    # Open the file with the specified encoding\n",
    "    with open(file_name, \"r\", encoding='utf-8') as f:\n",
    "        content = f.readlines()\n",
    "    content = [x.strip() for x in content]\n",
    "    return content\n",
    "\n",
    "# Read text data from the file and store it\n",
    "train_text = read_data(\"train_text.txt\")\n",
    "train_labels = read_data(\"train_labels.txt\")\n",
    "val_text = read_data(\"val_text.txt\")\n",
    "val_labels = read_data(\"val_labels.txt\")\n",
    "test_text = read_data(\"test_text.txt\")\n",
    "test_labels = read_data(\"test_labels.txt\")"
   ]
  },
  {
   "cell_type": "code",
   "execution_count": 3,
   "id": "8be105af",
   "metadata": {},
   "outputs": [],
   "source": [
    "# train_labels,train_text"
   ]
  },
  {
   "cell_type": "code",
   "execution_count": 4,
   "id": "08719e16",
   "metadata": {},
   "outputs": [],
   "source": [
    "# val_labels,val_text"
   ]
  },
  {
   "cell_type": "code",
   "execution_count": 5,
   "id": "60c36d62",
   "metadata": {},
   "outputs": [],
   "source": [
    "# test_labels,test_text"
   ]
  },
  {
   "cell_type": "code",
   "execution_count": 6,
   "id": "4ccce612",
   "metadata": {},
   "outputs": [],
   "source": [
    "def read_lexicons(file_name):\n",
    "    with open(file_name, \"r\", encoding='utf-8') as f:\n",
    "        content = f.readlines()\n",
    "    content = [x.strip().split('\\t') for x in content]\n",
    "    lexicon_dict = {values[0]: {'Negative': float(values[1]), 'Positive': float(values[2])} for values in content if len(values) == 3}\n",
    "\n",
    "    return lexicon_dict\n",
    "\n",
    "# Add file names for socialsent_hist_adj and socialsent_hist_freq 2000.tsv\n",
    "hist_adj_file = \"socialsent_hist_adj/2000.tsv\"\n",
    "hist_freq_file = \"socialsent_hist_freq/2000.tsv\"\n",
    "\n",
    "# Read the sentiment lexicons from the 2000.tsv files\n",
    "hist_adj_lexicon = read_lexicons(hist_adj_file)\n",
    "hist_freq_lexicon = read_lexicons(hist_freq_file)\n",
    "\n",
    "# Read subreddit lexicons\n",
    "lexicon_files = [\n",
    "   \"3DS.tsv\", \"4chan.tsv\", \"2007scape.tsv\", \"ACTrade.tsv\", \"amiugly.tsv\", \"BabyBumps.tsv\", \"baseball.tsv\", \"canada.tsv\",\n",
    "    \"CasualConversation.tsv\", \"DarknetMarkets.tsv\", \"darksouls.tsv\", \"elderscrollsonline.tsv\", \"Eve.tsv\", \"Fallout.tsv\",\n",
    "    \"fantasyfootball.tsv\", \"GameDeals.tsv\", \"gamegrumps.tsv\", \"halo.tsv\", \"Homebrewing.tsv\", \"IAmA.tsv\", \"india.tsv\",\n",
    "    \"jailbreak.tsv\", \"Jokes.tsv\", \"KerbalSpaceProgram.tsv\", \"Keto.tsv\", \"leagueoflegends.tsv\", \"Libertarian.tsv\",\n",
    "    \"magicTCG.tsv\", \"MakeupAddiction.tsv\", \"Naruto.tsv\", \"nba.tsv\", \"oculus.tsv\", \"OkCupid.tsv\", \"Parenting.tsv\",\n",
    "    \"pathofexile.tsv\", \"raisedbynarcissists.tsv\", \"Random_Acts_Of_Amazon.tsv\", \"science.tsv\", \"Seattle.tsv\",\n",
    "    \"TalesFromRetail.tsv\", \"talesfromtechsupport.tsv\", \"ultrahardcore.tsv\", \"videos.tsv\", \"Warthunder.tsv\",\n",
    "    \"whowouldwin.tsv\", \"xboxone.tsv\", \"yugioh.tsv\"\n",
    "]\n",
    "\n",
    "lexicon_dicts = []\n",
    "for file in lexicon_files:\n",
    "    lexicon_dicts.append(read_lexicons(os.path.join(\"socialsent_subreddits\", file)))\n",
    "\n",
    "# Combine all lexicons into a single list\n",
    "all_lexicons = [hist_adj_lexicon, hist_freq_lexicon] + lexicon_dicts\n"
   ]
  },
  {
   "cell_type": "code",
   "execution_count": 7,
   "id": "78f7bafc",
   "metadata": {},
   "outputs": [],
   "source": [
    "# for index, lexicon in enumerate(all_lexicons):\n",
    "#     print(f\"Lexicon {index + 1}:\\n\")\n",
    "#     for i, (word, scores) in enumerate(lexicon.items()):\n",
    "#         if i >= 100:\n",
    "#             break\n",
    "#         print(f\"{word}: Negative {scores['Negative']}, Positive {scores['Positive']}\")\n",
    "    \n",
    "#     print()\n"
   ]
  },
  {
   "cell_type": "code",
   "execution_count": 8,
   "id": "acaca370",
   "metadata": {},
   "outputs": [],
   "source": [
    "def extract_features(tweet, all_lexicons):\n",
    "    words = tweet.split()\n",
    "    word_count = len(words)\n",
    "    longest_word = max(words, key=len)\n",
    "\n",
    "    features = [0] * 12\n",
    "    for i, lexicon_dict in enumerate(all_lexicons[:9]):\n",
    "        score = sum([lexicon_dict.get(word, {'Negative': 0, 'Positive': 0})['Negative'] + \n",
    "                     lexicon_dict.get(word, {'Negative': 0, 'Positive': 0})['Positive']\n",
    "                     for word in words])\n",
    "        features[i] = score\n",
    "\n",
    "    features[9] = math.log(word_count) if word_count > 0 else 0\n",
    "    features[10] = math.log(len(longest_word)) if longest_word else 0\n",
    "    long_word_count = len([word for word in words if len(word) >= 5])\n",
    "    features[11] = math.log(long_word_count) if long_word_count > 0 else 0\n",
    "\n",
    "    return features\n",
    "\n",
    "train_features = [extract_features(tweet, all_lexicons) for tweet in train_text]\n",
    "val_features = [extract_features(tweet, all_lexicons) for tweet in val_text]\n",
    "test_features = [extract_features(tweet, all_lexicons) for tweet in test_text]\n"
   ]
  },
  {
   "cell_type": "code",
   "execution_count": 9,
   "id": "552c1881",
   "metadata": {},
   "outputs": [],
   "source": [
    "# train_features"
   ]
  },
  {
   "cell_type": "code",
   "execution_count": 10,
   "id": "6d4c9883",
   "metadata": {},
   "outputs": [],
   "source": [
    "# val_features"
   ]
  },
  {
   "cell_type": "code",
   "execution_count": 11,
   "id": "76b4eec5",
   "metadata": {},
   "outputs": [],
   "source": [
    "# test_features"
   ]
  },
  {
   "cell_type": "code",
   "execution_count": 12,
   "id": "4a347ef4",
   "metadata": {},
   "outputs": [],
   "source": [
    "# Convert the list of training features and labels to PyTorch tensors\n",
    "X_train = torch.tensor(train_features, dtype=torch.float32)\n",
    "y_train = torch.tensor(list(map(int, train_labels)), dtype=torch.float32).view(-1, 1)\n",
    "\n",
    "# Convert the list of validation features and labels to PyTorch tensors\n",
    "X_val = torch.tensor(val_features, dtype=torch.float32)\n",
    "y_val = torch.tensor(list(map(int, val_labels)), dtype=torch.float32).view(-1, 1)\n",
    "\n",
    "# Convert the list of test features and labels to PyTorch tensors\n",
    "X_test = torch.tensor(test_features, dtype=torch.float32)\n",
    "y_test = torch.tensor(list(map(int, test_labels)), dtype=torch.float32).view(-1, 1)\n",
    "\n"
   ]
  },
  {
   "cell_type": "code",
   "execution_count": 13,
   "id": "7476a03e",
   "metadata": {},
   "outputs": [],
   "source": [
    "class LogisticRegression:\n",
    "    def __init__(self, num_features):\n",
    "        self.weights = Variable(torch.randn(num_features, 1), requires_grad=True)\n",
    "        self.bias = Variable(torch.randn(1), requires_grad=True)\n",
    "\n",
    "    def forward(self, X):\n",
    "        return torch.sigmoid(torch.mm(X, self.weights) + self.bias)\n",
    "\n",
    "    def train(self, X_train, y_train, X_val, y_val, lr=0.01, epochs=100):\n",
    "        train_losses = []\n",
    "        val_accuracies = []\n",
    "        val_f1_scores = []\n",
    "\n",
    "        for epoch in range(epochs):\n",
    "            y_pred = self.forward(X_train)\n",
    "            loss = torch.mean(-y_train * torch.log(y_pred) - (1 - y_train) * torch.log(1 - y_pred))\n",
    "            train_losses.append(loss.item())\n",
    "            loss.backward()\n",
    "\n",
    "            with torch.no_grad():\n",
    "                self.weights -= lr * self.weights.grad\n",
    "                self.bias -= lr * self.bias.grad\n",
    "                self.weights.grad.zero_()\n",
    "                self.bias.grad.zero_()\n",
    "\n",
    "            val_accuracy, val_f1 = self.evaluate(X_val, y_val)\n",
    "            val_accuracies.append(val_accuracy)\n",
    "            val_f1_scores.append(val_f1)\n",
    "\n",
    "        return train_losses, val_accuracies, val_f1_scores\n",
    "\n",
    "    def predict(self, X):\n",
    "        return (self.forward(X) >= 0.5).float()\n",
    "\n",
    "    def evaluate(self, X, y):\n",
    "        y_pred = self.predict(X)\n",
    "        accuracy = accuracy_score(y, y_pred)\n",
    "        f1 = f1_score(y, y_pred, average='weighted')\n",
    "        return accuracy, f1\n"
   ]
  },
  {
   "cell_type": "code",
   "execution_count": 14,
   "id": "f73ba9b1",
   "metadata": {},
   "outputs": [
    {
     "name": "stdout",
     "output_type": "stream",
     "text": [
      "Accuracy using Logistic Regression: 0.3233\n",
      "F1 Score of the logistic regression Model: 0.1580\n"
     ]
    }
   ],
   "source": [
    "Model = LogisticRegression(num_features=12)\n",
    "train_losses, val_accuracies, val_f1_scores = Model.train(X_train, y_train, X_val, y_val, lr=0.001, epochs=100)\n",
    "accuracy, f1 = Model.evaluate(X_test, y_test)\n",
    "print(f\"Accuracy using Logistic Regression: {accuracy:.4f}\")\n",
    "print(f\"F1 Score of the logistic regression Model: {f1:.4f}\")\n"
   ]
  },
  {
   "cell_type": "code",
   "execution_count": 15,
   "id": "a68d8203",
   "metadata": {},
   "outputs": [
    {
     "data": {
      "image/png": "[encoded data removed]",
      "text/plain": [
       "<Figure size 640x480 with 1 Axes>"
      ]
     },
     "metadata": {},
     "output_type": "display_data"
    },
    {
     "data": {
      "image/png": "[encoded data removed]",
      "text/plain": [
       "<Figure size 640x480 with 1 Axes>"
      ]
     },
     "metadata": {},
     "output_type": "display_data"
    }
   ],
   "source": [
    "# Plot training loss over epochs\n",
    "plt.figure()\n",
    "plt.plot(range(1, 101), train_losses)\n",
    "plt.xlabel('Epoch')\n",
    "plt.ylabel('Training Loss')\n",
    "plt.title('Training Loss over Epochs')\n",
    "plt.show()\n",
    "\n",
    "# Plot validation accuracy and F1 score over epochs\n",
    "plt.figure()\n",
    "plt.plot(range(1, 101), val_accuracies, label='Accuracy')\n",
    "plt.plot(range(1, 101), val_f1_scores, label='F1 Score')\n",
    "plt.xlabel('Epoch')\n",
    "plt.ylabel('Performance')\n",
    "plt.title('Validation Performance over Epochs')\n",
    "plt.legend()\n",
    "plt.show()"
   ]
  },
  {
   "cell_type": "code",
   "execution_count": null,
   "id": "176bd37e",
   "metadata": {},
   "outputs": [],
   "source": []
  }
 ],
 "metadata": {
  "kernelspec": {
   "display_name": "Python 3 (ipykernel)",
   "language": "python",
   "name": "python3"
  },
  "language_info": {
   "codemirror_mode": {
    "name": "ipython",
    "version": 3
   },
   "file_extension": ".py",
   "mimetype": "text/x-python",
   "name": "python",
   "nbconvert_exporter": "python",
   "pygments_lexer": "ipython3",
   "version": "3.9.13"
  }
 },
 "nbformat": 4,
 "nbformat_minor": 5
}
